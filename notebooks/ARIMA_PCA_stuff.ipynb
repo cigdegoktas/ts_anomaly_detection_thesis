{
 "cells": [
  {
   "cell_type": "code",
   "id": "8cdebf98-3836-41be-8d7f-55ba4d898217",
   "metadata": {
    "ExecuteTime": {
     "end_time": "2024-11-18T21:33:07.928563Z",
     "start_time": "2024-11-18T21:33:06.415935Z"
    }
   },
   "source": [
    "import pandas as pd\n",
    "import numpy as np\n",
    "from statsmodels.tsa.arima.model import ARIMA\n",
    "import matplotlib.pyplot as plt\n",
    "import datetime as dt\n",
    "from statsmodels.tsa.stattools import adfuller\n",
    "from sklearn.decomposition import PCA"
   ],
   "outputs": [],
   "execution_count": 1
  },
  {
   "cell_type": "code",
   "id": "b579ed1b-0ffd-4e8f-b02f-a85f07b8ed4c",
   "metadata": {
    "ExecuteTime": {
     "end_time": "2024-11-18T21:33:07.932450Z",
     "start_time": "2024-11-18T21:33:07.928563Z"
    }
   },
   "source": [
    "def parser(x):\n",
    "\treturn dt.datetime.strptime(x, \"%Y-%m-%d %H:%M:%S\")"
   ],
   "outputs": [],
   "execution_count": 2
  },
  {
   "cell_type": "code",
   "id": "d69bf596-bac9-4640-a2e6-6986490b0d4e",
   "metadata": {
    "ExecuteTime": {
     "end_time": "2024-11-18T21:33:07.937519Z",
     "start_time": "2024-11-18T21:33:07.932450Z"
    }
   },
   "source": [
    "def test_stationarity(ts_data, column='', signif=0.05, series=False):\n",
    "    if series:\n",
    "        adf_test = adfuller(ts_data, autolag='AIC')\n",
    "    else:\n",
    "        adf_test = adfuller(ts_data[column], autolag='AIC')\n",
    "    p_value = adf_test[1]\n",
    "    if p_value <= signif:\n",
    "        test_result = \"Stationary\"\n",
    "    else:\n",
    "        test_result = \"Non-Stationary\"\n",
    "    return test_result"
   ],
   "outputs": [],
   "execution_count": 3
  },
  {
   "cell_type": "code",
   "id": "16873192-1713-4a21-a0c4-78d5247d1dbc",
   "metadata": {
    "ExecuteTime": {
     "end_time": "2024-11-18T21:33:07.941934Z",
     "start_time": "2024-11-18T21:33:07.937519Z"
    }
   },
   "source": [
    "# ADF test function to check stationarity and suggest differencing (d) value\n",
    "def check_stationarity_and_find_d(series):\n",
    "    p_value_threshold = 0.05\n",
    "    d = 0\n",
    "    adf_result = adfuller(series)\n",
    "    print(f\"ADF Statistic (d={d}): {adf_result[0]}, p-value: {adf_result[1]}\")\n",
    "    \n",
    "    # If series is not stationary (p-value > 0.05), apply differencing and test again\n",
    "    while adf_result[1] > p_value_threshold:\n",
    "        d += 1\n",
    "        series = series.diff().dropna()\n",
    "        adf_result = adfuller(series)\n",
    "        print(f\"ADF Statistic (d={d}): {adf_result[0]}, p-value: {adf_result[1]}\")\n",
    "    \n",
    "    print(f\"Recommended d value: {d}\")\n",
    "    return d"
   ],
   "outputs": [],
   "execution_count": 4
  },
  {
   "cell_type": "code",
   "id": "bc85853f-386b-465f-978c-9420c876a38e",
   "metadata": {
    "ExecuteTime": {
     "end_time": "2024-11-18T21:33:07.945948Z",
     "start_time": "2024-11-18T21:33:07.941934Z"
    }
   },
   "source": [
    "def differencing(data, column, order):\n",
    "    differenced_data = data[column].diff(order)\n",
    "    differenced_data.fillna(differenced_data.mean(), inplace=True)\n",
    "    return differenced_data"
   ],
   "outputs": [],
   "execution_count": 5
  },
  {
   "metadata": {
    "ExecuteTime": {
     "end_time": "2024-11-18T21:33:07.952989Z",
     "start_time": "2024-11-18T21:33:07.945948Z"
    }
   },
   "cell_type": "code",
   "source": [
    "# TODO: Make it better\n",
    "from pathlib import Path\n",
    "\n",
    "# Define the path\n",
    "project_root = Path(\"C:/Users/cigde/ts_anomaly_detection_thesis/ts_anomaly_detection_thesis\")\n",
    "file_path = project_root / \"data\" / \"grok_asg_anomaly.csv\"\n",
    "\n",
    "print(file_path)  # Output: C:/Users/ece/ts_anomaly_detection_thesis/data/example.csv"
   ],
   "id": "c2f56fe9df8e2a76",
   "outputs": [
    {
     "name": "stdout",
     "output_type": "stream",
     "text": [
      "C:\\Users\\cigde\\ts_anomaly_detection_thesis\\ts_anomaly_detection_thesis\\data\\grok_asg_anomaly.csv\n"
     ]
    }
   ],
   "execution_count": 6
  },
  {
   "cell_type": "code",
   "id": "25c8b4c7-4d6a-4a22-a851-f2901b25a08c",
   "metadata": {
    "ExecuteTime": {
     "end_time": "2024-11-18T21:33:07.993557Z",
     "start_time": "2024-11-18T21:33:07.952989Z"
    }
   },
   "source": [
    "# some turkish \n",
    "fname = f\"data\\\\grok_asg_anomaly.csv\"\n",
    "\n",
    "data = pd.read_csv(file_path, header=0, parse_dates=[0], index_col=0, date_parser=parser)"
   ],
   "outputs": [
    {
     "name": "stderr",
     "output_type": "stream",
     "text": [
      "C:\\Users\\cigde\\AppData\\Local\\Temp\\ipykernel_26816\\2909950521.py:4: FutureWarning: The argument 'date_parser' is deprecated and will be removed in a future version. Please use 'date_format' instead, or read your data in as 'object' dtype and then call 'to_datetime'.\n",
      "  data = pd.read_csv(file_path, header=0, parse_dates=[0], index_col=0, date_parser=parser)\n"
     ]
    }
   ],
   "execution_count": 7
  },
  {
   "cell_type": "code",
   "id": "abfb5ceb-af3f-4e08-9faa-36bf959c30dc",
   "metadata": {
    "ExecuteTime": {
     "end_time": "2024-11-18T21:33:07.998168Z",
     "start_time": "2024-11-18T21:33:07.993557Z"
    }
   },
   "source": [
    "#data = data[:3650]"
   ],
   "outputs": [],
   "execution_count": 8
  },
  {
   "cell_type": "code",
   "id": "1c8f6d66-df11-4c6b-afaa-d7650748e085",
   "metadata": {
    "ExecuteTime": {
     "end_time": "2024-11-18T21:33:08.158034Z",
     "start_time": "2024-11-18T21:33:08.002808Z"
    }
   },
   "source": [
    "test_stationarity(data, 'value')"
   ],
   "outputs": [
    {
     "data": {
      "text/plain": [
       "'Non-Stationary'"
      ]
     },
     "execution_count": 9,
     "metadata": {},
     "output_type": "execute_result"
    }
   ],
   "execution_count": 9
  },
  {
   "cell_type": "code",
   "id": "c6ade065-0f7a-4c7d-95e3-88eeb0406182",
   "metadata": {
    "ExecuteTime": {
     "end_time": "2024-11-18T21:33:08.419288Z",
     "start_time": "2024-11-18T21:33:08.158034Z"
    }
   },
   "source": [
    "# Applying the function to the data to find the appropriate differencing (d) value\n",
    "recommended_d = check_stationarity_and_find_d(data['value'])\n",
    "recommended_d"
   ],
   "outputs": [
    {
     "name": "stdout",
     "output_type": "stream",
     "text": [
      "ADF Statistic (d=0): -0.6872306404260928, p-value: 0.8500294226198652\n",
      "ADF Statistic (d=1): -13.257159674294314, p-value: 8.541873969754013e-25\n",
      "Recommended d value: 1\n"
     ]
    },
    {
     "data": {
      "text/plain": [
       "1"
      ]
     },
     "execution_count": 10,
     "metadata": {},
     "output_type": "execute_result"
    }
   ],
   "execution_count": 10
  },
  {
   "cell_type": "code",
   "id": "25d2cbcb-6de2-4129-8b6d-dbd438c75346",
   "metadata": {
    "ExecuteTime": {
     "end_time": "2024-11-18T21:33:08.422637Z",
     "start_time": "2024-11-18T21:33:08.419288Z"
    }
   },
   "source": [
    "p = 1\n",
    "d = recommended_d\n",
    "q = 1"
   ],
   "outputs": [],
   "execution_count": 11
  },
  {
   "cell_type": "code",
   "id": "73e31663-7daf-44f3-a651-52565645b233",
   "metadata": {
    "ExecuteTime": {
     "end_time": "2024-11-18T21:33:08.667459Z",
     "start_time": "2024-11-18T21:33:08.422637Z"
    }
   },
   "source": [
    "#Fit the ARIMA model\n",
    "model = ARIMA(data['value'], order=(p, d, q))  # Set (p, d, q) based on your needs\n",
    "model_fit = model.fit()"
   ],
   "outputs": [
    {
     "name": "stderr",
     "output_type": "stream",
     "text": [
      "C:\\Users\\cigde\\AppData\\Local\\Programs\\Python\\Python312\\Lib\\site-packages\\statsmodels\\tsa\\base\\tsa_model.py:473: ValueWarning: No frequency information was provided, so inferred frequency 5min will be used.\n",
      "  self._init_dates(dates, freq)\n",
      "C:\\Users\\cigde\\AppData\\Local\\Programs\\Python\\Python312\\Lib\\site-packages\\statsmodels\\tsa\\base\\tsa_model.py:473: ValueWarning: No frequency information was provided, so inferred frequency 5min will be used.\n",
      "  self._init_dates(dates, freq)\n",
      "C:\\Users\\cigde\\AppData\\Local\\Programs\\Python\\Python312\\Lib\\site-packages\\statsmodels\\tsa\\base\\tsa_model.py:473: ValueWarning: No frequency information was provided, so inferred frequency 5min will be used.\n",
      "  self._init_dates(dates, freq)\n"
     ]
    }
   ],
   "execution_count": 12
  },
  {
   "cell_type": "code",
   "id": "6e1e724b-41d8-429a-b5e2-61828a417823",
   "metadata": {
    "ExecuteTime": {
     "end_time": "2024-11-18T21:33:08.694337Z",
     "start_time": "2024-11-18T21:33:08.667459Z"
    }
   },
   "source": [
    "model_fit.summary()"
   ],
   "outputs": [
    {
     "data": {
      "text/plain": [
       "<class 'statsmodels.iolib.summary.Summary'>\n",
       "\"\"\"\n",
       "                               SARIMAX Results                                \n",
       "==============================================================================\n",
       "Dep. Variable:                  value   No. Observations:                 4621\n",
       "Model:                 ARIMA(1, 1, 1)   Log Likelihood               -9324.351\n",
       "Date:                Tue, 19 Nov 2024   AIC                          18654.701\n",
       "Time:                        00:33:08   BIC                          18674.016\n",
       "Sample:                    01-16-2014   HQIC                         18661.498\n",
       "                         - 02-01-2014                                         \n",
       "Covariance Type:                  opg                                         \n",
       "==============================================================================\n",
       "                 coef    std err          z      P>|z|      [0.025      0.975]\n",
       "------------------------------------------------------------------------------\n",
       "ar.L1          0.2992      0.008     37.904      0.000       0.284       0.315\n",
       "ma.L1         -0.8063      0.005   -157.595      0.000      -0.816      -0.796\n",
       "sigma2         3.3152      0.016    211.781      0.000       3.284       3.346\n",
       "===================================================================================\n",
       "Ljung-Box (L1) (Q):                   0.36   Jarque-Bera (JB):            344288.04\n",
       "Prob(Q):                              0.55   Prob(JB):                         0.00\n",
       "Heteroskedasticity (H):               2.73   Skew:                            -1.51\n",
       "Prob(H) (two-sided):                  0.00   Kurtosis:                        45.18\n",
       "===================================================================================\n",
       "\n",
       "Warnings:\n",
       "[1] Covariance matrix calculated using the outer product of gradients (complex-step).\n",
       "\"\"\""
      ],
      "text/html": [
       "<table class=\"simpletable\">\n",
       "<caption>SARIMAX Results</caption>\n",
       "<tr>\n",
       "  <th>Dep. Variable:</th>         <td>value</td>      <th>  No. Observations:  </th>   <td>4621</td>   \n",
       "</tr>\n",
       "<tr>\n",
       "  <th>Model:</th>            <td>ARIMA(1, 1, 1)</td>  <th>  Log Likelihood     </th> <td>-9324.351</td>\n",
       "</tr>\n",
       "<tr>\n",
       "  <th>Date:</th>            <td>Tue, 19 Nov 2024</td> <th>  AIC                </th> <td>18654.701</td>\n",
       "</tr>\n",
       "<tr>\n",
       "  <th>Time:</th>                <td>00:33:08</td>     <th>  BIC                </th> <td>18674.016</td>\n",
       "</tr>\n",
       "<tr>\n",
       "  <th>Sample:</th>             <td>01-16-2014</td>    <th>  HQIC               </th> <td>18661.498</td>\n",
       "</tr>\n",
       "<tr>\n",
       "  <th></th>                   <td>- 02-01-2014</td>   <th>                     </th>     <td> </td>    \n",
       "</tr>\n",
       "<tr>\n",
       "  <th>Covariance Type:</th>        <td>opg</td>       <th>                     </th>     <td> </td>    \n",
       "</tr>\n",
       "</table>\n",
       "<table class=\"simpletable\">\n",
       "<tr>\n",
       "     <td></td>       <th>coef</th>     <th>std err</th>      <th>z</th>      <th>P>|z|</th>  <th>[0.025</th>    <th>0.975]</th>  \n",
       "</tr>\n",
       "<tr>\n",
       "  <th>ar.L1</th>  <td>    0.2992</td> <td>    0.008</td> <td>   37.904</td> <td> 0.000</td> <td>    0.284</td> <td>    0.315</td>\n",
       "</tr>\n",
       "<tr>\n",
       "  <th>ma.L1</th>  <td>   -0.8063</td> <td>    0.005</td> <td> -157.595</td> <td> 0.000</td> <td>   -0.816</td> <td>   -0.796</td>\n",
       "</tr>\n",
       "<tr>\n",
       "  <th>sigma2</th> <td>    3.3152</td> <td>    0.016</td> <td>  211.781</td> <td> 0.000</td> <td>    3.284</td> <td>    3.346</td>\n",
       "</tr>\n",
       "</table>\n",
       "<table class=\"simpletable\">\n",
       "<tr>\n",
       "  <th>Ljung-Box (L1) (Q):</th>     <td>0.36</td> <th>  Jarque-Bera (JB):  </th> <td>344288.04</td>\n",
       "</tr>\n",
       "<tr>\n",
       "  <th>Prob(Q):</th>                <td>0.55</td> <th>  Prob(JB):          </th>   <td>0.00</td>   \n",
       "</tr>\n",
       "<tr>\n",
       "  <th>Heteroskedasticity (H):</th> <td>2.73</td> <th>  Skew:              </th>   <td>-1.51</td>  \n",
       "</tr>\n",
       "<tr>\n",
       "  <th>Prob(H) (two-sided):</th>    <td>0.00</td> <th>  Kurtosis:          </th>   <td>45.18</td>  \n",
       "</tr>\n",
       "</table><br/><br/>Warnings:<br/>[1] Covariance matrix calculated using the outer product of gradients (complex-step)."
      ],
      "text/latex": "\\begin{center}\n\\begin{tabular}{lclc}\n\\toprule\n\\textbf{Dep. Variable:}          &      value       & \\textbf{  No. Observations:  } &    4621     \\\\\n\\textbf{Model:}                  &  ARIMA(1, 1, 1)  & \\textbf{  Log Likelihood     } & -9324.351   \\\\\n\\textbf{Date:}                   & Tue, 19 Nov 2024 & \\textbf{  AIC                } & 18654.701   \\\\\n\\textbf{Time:}                   &     00:33:08     & \\textbf{  BIC                } & 18674.016   \\\\\n\\textbf{Sample:}                 &    01-16-2014    & \\textbf{  HQIC               } & 18661.498   \\\\\n\\textbf{}                        &   - 02-01-2014   & \\textbf{                     } &             \\\\\n\\textbf{Covariance Type:}        &       opg        & \\textbf{                     } &             \\\\\n\\bottomrule\n\\end{tabular}\n\\begin{tabular}{lcccccc}\n                & \\textbf{coef} & \\textbf{std err} & \\textbf{z} & \\textbf{P$> |$z$|$} & \\textbf{[0.025} & \\textbf{0.975]}  \\\\\n\\midrule\n\\textbf{ar.L1}  &       0.2992  &        0.008     &    37.904  &         0.000        &        0.284    &        0.315     \\\\\n\\textbf{ma.L1}  &      -0.8063  &        0.005     &  -157.595  &         0.000        &       -0.816    &       -0.796     \\\\\n\\textbf{sigma2} &       3.3152  &        0.016     &   211.781  &         0.000        &        3.284    &        3.346     \\\\\n\\bottomrule\n\\end{tabular}\n\\begin{tabular}{lclc}\n\\textbf{Ljung-Box (L1) (Q):}     & 0.36 & \\textbf{  Jarque-Bera (JB):  } & 344288.04  \\\\\n\\textbf{Prob(Q):}                & 0.55 & \\textbf{  Prob(JB):          } &    0.00    \\\\\n\\textbf{Heteroskedasticity (H):} & 2.73 & \\textbf{  Skew:              } &   -1.51    \\\\\n\\textbf{Prob(H) (two-sided):}    & 0.00 & \\textbf{  Kurtosis:          } &   45.18    \\\\\n\\bottomrule\n\\end{tabular}\n%\\caption{SARIMAX Results}\n\\end{center}\n\nWarnings: \\newline\n [1] Covariance matrix calculated using the outer product of gradients (complex-step)."
     },
     "execution_count": 13,
     "metadata": {},
     "output_type": "execute_result"
    }
   ],
   "execution_count": 13
  },
  {
   "cell_type": "code",
   "id": "7779f72e-d42a-41eb-8288-de486118aaf8",
   "metadata": {
    "ExecuteTime": {
     "end_time": "2024-11-18T21:33:08.699383Z",
     "start_time": "2024-11-18T21:33:08.694337Z"
    }
   },
   "source": [
    "# Forecast and calculate residuals\n",
    "forecast = model_fit.predict(start=0, end=len(data) - 1)\n",
    "residuals = data['value'] - forecast"
   ],
   "outputs": [],
   "execution_count": 14
  },
  {
   "cell_type": "code",
   "id": "ad469566-d04a-4953-9ad1-427063721324",
   "metadata": {
    "ExecuteTime": {
     "end_time": "2024-11-18T21:33:08.704141Z",
     "start_time": "2024-11-18T21:33:08.699383Z"
    }
   },
   "source": [
    "data[\"pred\"] = forecast"
   ],
   "outputs": [],
   "execution_count": 15
  },
  {
   "cell_type": "code",
   "id": "e71868b4-96ba-4859-a1cc-10ca943a2792",
   "metadata": {
    "ExecuteTime": {
     "end_time": "2024-11-18T21:33:08.709746Z",
     "start_time": "2024-11-18T21:33:08.704141Z"
    }
   },
   "source": [
    "# Anomaly detection based on residuals\n",
    "threshold_max = 0.3 * np.std(data['value']) +  np.median(data['value']) # TODO: 0.3 is sample, it has to be higher.\n",
    "threshold_min = - 0.3 * np.std(data['value']) +  np.median(data['value']) # TODO: 0.3 is sample, it has to be higher."
   ],
   "outputs": [],
   "execution_count": 16
  },
  {
   "cell_type": "code",
   "id": "456f38c8-341a-4a97-b1b8-776ded3e8403",
   "metadata": {
    "ExecuteTime": {
     "end_time": "2024-11-18T21:33:08.714676Z",
     "start_time": "2024-11-18T21:33:08.709746Z"
    }
   },
   "source": [
    "threshold_min, threshold_max"
   ],
   "outputs": [
    {
     "data": {
      "text/plain": [
       "(np.float64(29.501688279215188), np.float64(37.38771172078481))"
      ]
     },
     "execution_count": 17,
     "metadata": {},
     "output_type": "execute_result"
    }
   ],
   "execution_count": 17
  },
  {
   "cell_type": "code",
   "id": "2485f8cd-be0a-4fc8-a679-3436ef8afa0e",
   "metadata": {
    "ExecuteTime": {
     "end_time": "2024-11-18T21:33:08.999354Z",
     "start_time": "2024-11-18T21:33:08.714676Z"
    }
   },
   "source": [
    "# Plot time series\n",
    "plt.figure(figsize=(16, 6))\n",
    "\n",
    "data['real_anomaly'] = (data['value'] > threshold_max) | (data['value'] < threshold_min)\n",
    "data['pred_anomaly'] = (data['pred'] > threshold_max) | (data['pred'] < threshold_min)\n",
    "\n",
    "# Identify TP, FP, FN\n",
    "data['TP'] = (data['real_anomaly'] == 1) & (data['pred_anomaly'] == 1)\n",
    "data['FP'] = (data['real_anomaly'] == 0) & (data['pred_anomaly'] == 1)\n",
    "data['FN'] = (data['real_anomaly'] == 1) & (data['pred_anomaly'] == 0)\n",
    "\n",
    "plt.plot(data.index, data['value'], label='Time Series', color = \"blue\", alpha=0.5)\n",
    "\n",
    "# Add scatter points for TP, FP, FN\n",
    "plt.scatter(data.index[data['TP']], data['value'][data['TP']], color='green', label='TP')\n",
    "plt.scatter(data.index[data['FP']], data['value'][data['FP']], color='red', label='FP')\n",
    "plt.scatter(data.index[data['FN']], data['value'][data['FN']], color='orange', label='FN')\n",
    "\n",
    "# Customize plot\n",
    "plt.xlabel('Time', fontsize = 12)\n",
    "plt.xticks(rotation=45)\n",
    "plt.ylabel('Real/Pred Values', fontsize = 12)\n",
    "plt.title('Time Series Anomaly Detection', fontsize = 15)\n",
    "plt.legend()\n",
    "plt.grid()\n",
    "plt.show()"
   ],
   "outputs": [
    {
     "data": {
      "text/plain": [
       "<Figure size 1600x600 with 1 Axes>"
      ],
      "image/png": "[encoded data removed]"
     },
     "metadata": {},
     "output_type": "display_data"
    }
   ],
   "execution_count": 18
  },
  {
   "cell_type": "code",
   "id": "9cf15bb9-14a9-4b3c-8a97-16c698a92c7e",
   "metadata": {
    "ExecuteTime": {
     "end_time": "2024-11-18T21:33:09.004057Z",
     "start_time": "2024-11-18T21:33:08.999354Z"
    }
   },
   "source": [
    "# Previous Visualization\n",
    "\"\"\"\n",
    "plt.figure(figsize=(12, 6))\n",
    "plt.plot(data['value'], label='Observed')\n",
    "plt.plot(forecast, color='orange', label='Forecast')\n",
    "plt.scatter(anomalies.index, anomalies['value'], color='red', label='Anomalies')\n",
    "plt.legend()\n",
    "plt.show()\n",
    "\"\"\""
   ],
   "outputs": [
    {
     "data": {
      "text/plain": [
       "\"\\nplt.figure(figsize=(12, 6))\\nplt.plot(data['value'], label='Observed')\\nplt.plot(forecast, color='orange', label='Forecast')\\nplt.scatter(anomalies.index, anomalies['value'], color='red', label='Anomalies')\\nplt.legend()\\nplt.show()\\n\""
      ]
     },
     "execution_count": 19,
     "metadata": {},
     "output_type": "execute_result"
    }
   ],
   "execution_count": 19
  },
  {
   "cell_type": "markdown",
   "id": "e60ef11d-3247-4682-9176-2bc64f5bad72",
   "metadata": {},
   "source": [
    "### PCA"
   ]
  },
  {
   "cell_type": "code",
   "id": "1ac172b6-9c03-4c9d-affe-125ea078f2e3",
   "metadata": {
    "ExecuteTime": {
     "end_time": "2024-11-18T21:33:09.007205Z",
     "start_time": "2024-11-18T21:33:09.004057Z"
    }
   },
   "source": [
    "time_series = data[\"value\"]"
   ],
   "outputs": [],
   "execution_count": 20
  },
  {
   "cell_type": "code",
   "id": "11839bd5-e4b2-4159-9136-4b3564d43736",
   "metadata": {
    "ExecuteTime": {
     "end_time": "2024-11-18T21:33:09.063831Z",
     "start_time": "2024-11-18T21:33:09.007205Z"
    }
   },
   "source": [
    "# Sliding window params\n",
    "window_size = 10 \n",
    "data_matrix = np.array([time_series[i:i+window_size].values for i in range(len(time_series) - window_size + 1)])\n",
    "data_matrix.shape"
   ],
   "outputs": [
    {
     "data": {
      "text/plain": [
       "(4612, 10)"
      ]
     },
     "execution_count": 21,
     "metadata": {},
     "output_type": "execute_result"
    }
   ],
   "execution_count": 21
  },
  {
   "cell_type": "code",
   "id": "37f11181-6e62-4ffd-a88c-0cdef0cae3ef",
   "metadata": {
    "ExecuteTime": {
     "end_time": "2024-11-18T21:33:09.070100Z",
     "start_time": "2024-11-18T21:33:09.063831Z"
    }
   },
   "source": [
    "pca = PCA(n_components=2)\n",
    "data_pca = pca.fit_transform(data_matrix)"
   ],
   "outputs": [],
   "execution_count": 22
  },
  {
   "cell_type": "code",
   "id": "a2b58c36-65f8-4a3b-89fb-d4794c7a4e56",
   "metadata": {
    "ExecuteTime": {
     "end_time": "2024-11-18T21:33:09.073708Z",
     "start_time": "2024-11-18T21:33:09.070100Z"
    }
   },
   "source": [
    "data_reconstructed = pca.inverse_transform(data_pca)\n",
    "reconstruction_error = np.mean((data_matrix - data_reconstructed) ** 2, axis=1)"
   ],
   "outputs": [],
   "execution_count": 23
  },
  {
   "cell_type": "code",
   "id": "3865a0b5-3ba6-4f5c-adac-88d53074b411",
   "metadata": {
    "ExecuteTime": {
     "end_time": "2024-11-18T21:33:09.077009Z",
     "start_time": "2024-11-18T21:33:09.073708Z"
    }
   },
   "source": [
    "threshold = np.mean(reconstruction_error) + 2 * np.std(reconstruction_error)\n",
    "anomalies = reconstruction_error > threshold"
   ],
   "outputs": [],
   "execution_count": 24
  },
  {
   "cell_type": "code",
   "id": "b7bc69ae-07b2-46c3-b533-e75febe56f91",
   "metadata": {
    "ExecuteTime": {
     "end_time": "2024-11-18T21:33:09.080718Z",
     "start_time": "2024-11-18T21:33:09.077009Z"
    }
   },
   "source": [
    "# Previous Visualization\n",
    "\"\"\"\n",
    "plt.plot(reconstruction_error, label='Reconstruction Error')\n",
    "plt.axhline(y=threshold, color='r', linestyle='--', label='Threshold')\n",
    "plt.scatter(np.where(anomalies), reconstruction_error[anomalies], color='red', label='Anomalies')\n",
    "plt.legend()\n",
    "plt.show()\n",
    "\"\"\""
   ],
   "outputs": [
    {
     "data": {
      "text/plain": [
       "\"\\nplt.plot(reconstruction_error, label='Reconstruction Error')\\nplt.axhline(y=threshold, color='r', linestyle='--', label='Threshold')\\nplt.scatter(np.where(anomalies), reconstruction_error[anomalies], color='red', label='Anomalies')\\nplt.legend()\\nplt.show()\\n\""
      ]
     },
     "execution_count": 25,
     "metadata": {},
     "output_type": "execute_result"
    }
   ],
   "execution_count": 25
  },
  {
   "cell_type": "markdown",
   "id": "b12c799d-5efb-41c3-a620-4661dd0ef0c4",
   "metadata": {},
   "source": [
    "### N-BEATS"
   ]
  },
  {
   "cell_type": "code",
   "id": "ff0e4258-6c4e-4045-a565-ed2058e6c870",
   "metadata": {
    "ExecuteTime": {
     "end_time": "2024-11-18T21:37:24.458748Z",
     "start_time": "2024-11-18T21:37:21.668128Z"
    }
   },
   "source": [
    "import torch\n",
    "import torch.nn as nn\n",
    "import torch.optim as optim\n",
    "from torch.utils.data import Dataset, DataLoader"
   ],
   "outputs": [],
   "execution_count": 26
  },
  {
   "metadata": {
    "ExecuteTime": {
     "end_time": "2024-11-18T21:39:48.346365Z",
     "start_time": "2024-11-18T21:39:48.222992Z"
    }
   },
   "cell_type": "code",
   "source": "!nvidia-smi -L",
   "id": "d8d4b00a68dce162",
   "outputs": [
    {
     "name": "stdout",
     "output_type": "stream",
     "text": [
      "GPU 0: NVIDIA GeForce RTX 3050 Laptop GPU (UUID: GPU-8035902b-e67f-11d8-46e6-b0daf1ccc112)\n"
     ]
    }
   ],
   "execution_count": 27
  },
  {
   "metadata": {
    "ExecuteTime": {
     "end_time": "2024-11-18T21:41:30.844876Z",
     "start_time": "2024-11-18T21:41:30.834516Z"
    }
   },
   "cell_type": "code",
   "source": "# TODO",
   "id": "d8cead57fd94846e",
   "outputs": [],
   "execution_count": 28
  }
 ],
 "metadata": {
  "kernelspec": {
   "display_name": "Python (VenvThesis)",
   "language": "python",
   "name": "myenv"
  },
  "language_info": {
   "codemirror_mode": {
    "name": "ipython",
    "version": 3
   },
   "file_extension": ".py",
   "mimetype": "text/x-python",
   "name": "python",
   "nbconvert_exporter": "python",
   "pygments_lexer": "ipython3",
   "version": "3.11.7"
  }
 },
 "nbformat": 4,
 "nbformat_minor": 5
}
